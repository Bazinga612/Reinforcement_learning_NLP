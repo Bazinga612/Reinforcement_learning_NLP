{
 "cells": [
  {
   "cell_type": "code",
   "execution_count": 2,
   "metadata": {
    "collapsed": true
   },
   "outputs": [],
   "source": [
    "import pickle"
   ]
  },
  {
   "cell_type": "code",
   "execution_count": 31,
   "metadata": {
    "collapsed": false
   },
   "outputs": [],
   "source": [
    "strategies = {\n",
    "    \"question\":[\"What's your favorite Character?\",\n",
    "                \"Which book in the series do you like the most?\",\n",
    "                \"How long does it take for you to read all the books?\",\n",
    "                \"Which house do you wanted to be in?\",\n",
    "                \"Do you want to ride a dragon?\",\n",
    "                \"Have you watched the movie?\",\n",
    "                \"What's your favorite weapon?\",\n",
    "                \"Who is your favorite vaillan?\"\n",
    "                \"Can you tell me more about that?\",\n",
    "                \"Is there any character that you want to date?\",\n",
    "                \"Which do you like better, the books or the movies?\",\n",
    "                \"What plot would you want to happen differently?\",\n",
    "                \"What's your biggest surprise?\",\n",
    "                \"What don't you like about it?\",\n",
    "                \"If you can do any magic, what would that be?\",\n",
    "                \"Do you like any couples in the book?\"],\n",
    "    \"opinion\":[\"It's spectacular.\",\n",
    "               \"Very sad.\",\n",
    "               \"Hilarious\",\n",
    "               \"I finished reading the books in 10 seconds because I am a computer.\",\n",
    "               \"I think this is the best thing I have read in a long time.\",\n",
    "               \"I think it's aweful\",\n",
    "               \"I beg to differ\",\n",
    "               \"Can I be brave if I am afraid? That's the only time you can be brave\",\n",
    "               \"It is our choices, Harry, that show what we truly are, far more than our abilities.\",\n",
    "               \"Happiness can be found even in the darkest of times, if one only remembers to turn on the light.\",\n",
    "               \"OMG, I cried so much.\",\n",
    "               \"Winter is coming\",\n",
    "               \"When in doubt, follow your nose.\",\n",
    "               \"Even the smallest person can change the course of the future.\",\n",
    "               \"YOU SHALL NOT PASS!\"],\n",
    "    \"relatedTopic\":[\"What else fantasy books have you read?\",\n",
    "                     \"Do you also like Game of thrones?\",\n",
    "                     \"Have you read lord of the rings?\",\n",
    "                     \"Let's talk about Harry Potters!\",\n",
    "                     \"When do you think the Winds of Winter is going to come out?\",\n",
    "                     \"Have you read JK Rowling's new book?\",\n",
    "                     \"What's good and what's evil?\",\n",
    "                     \"What is true happiness?\",\n",
    "                     \"What makes a good friend?\",\n",
    "                     \"Who decides what morality is?\",\n",
    "                     \"Do we have a soul?\",\n",
    "                     \"Do aliens exist?\",\n",
    "                     \"If you could choose just one thing to change about the world, what would it be?\",\n",
    "                     \"What one piece of advice would you offer to a person who have never seen this?\",\n",
    "                     \"What is true strength?\"],\n",
    "    \"random\": [\"hmmm\", \n",
    "               \"huh?\", \n",
    "               \"Oh\", \n",
    "               \"Really?\", \n",
    "               \"Okay\", \n",
    "               \"wow\", \n",
    "               \"Damn\",\n",
    "               \"Cool\",\n",
    "               \"I don't understand that.\",\n",
    "               \"I am glad to hear that.\",\n",
    "               \"Definitely\",\n",
    "               \"I need to think about that\",\n",
    "               \"Awesome\",\n",
    "               \"I know what you mean\",\n",
    "               \"Well, yeah\"]}"
   ]
  },
  {
   "cell_type": "code",
   "execution_count": 32,
   "metadata": {
    "collapsed": false
   },
   "outputs": [
    {
     "name": "stdout",
     "output_type": "stream",
     "text": [
      "question 15\n",
      "opinion 15\n",
      "relatedTopic 15\n",
      "random 15\n"
     ]
    }
   ],
   "source": [
    "for strategy, Qs in strategies.items():\n",
    "    print(strategy, len(Qs))"
   ]
  },
  {
   "cell_type": "code",
   "execution_count": 33,
   "metadata": {
    "collapsed": false
   },
   "outputs": [],
   "source": [
    "pickle.dump(strategies, open(\"strategies.pkl\", \"wb\"))"
   ]
  },
  {
   "cell_type": "code",
   "execution_count": 34,
   "metadata": {
    "collapsed": false
   },
   "outputs": [
    {
     "name": "stdout",
     "output_type": "stream",
     "text": [
      "{'question': [\"What's your favorite Character?\", 'Which book in the series do you like the most?', 'How long does it take for you to read all the books?', 'Which house do you wanted to be in?', 'Do you want to ride a dragon?', 'Have you watched the movie?', \"What's your favorite weapon?\", 'Who is your favorite vaillan?Can you tell me more about that?', 'Is there any character that you want to date?', 'Which do you like better, the books or the movies?', 'What plot would you want to happen differently?', \"What's your biggest surprise?\", \"What don't you like about it?\", 'If you can do any magic, what would that be?', 'Do you like any couples in the book?'], 'opinion': [\"It's spectacular.\", 'Very sad.', 'Hilarious', 'I finished reading the books in 10 seconds because I am a computer.', 'I think this is the best thing I have read in a long time.', \"I think it's aweful\", 'I beg to differ', \"Can I be brave if I am afraid? That's the only time you can be brave\", 'It is our choices, Harry, that show what we truly are, far more than our abilities.', 'Happiness can be found even in the darkest of times, if one only remembers to turn on the light.', 'OMG, I cried so much.', 'Winter is coming', 'When in doubt, follow your nose.', 'Even the smallest person can change the course of the future.', 'YOU SHALL NOT PASS!'], 'relatedTopic': ['What else fantasy books have you read?', 'Do you also like Game of thrones?', 'Have you read lord of the rings?', \"Let's talk about Harry Potters!\", 'When do you think the Winds of Winter is going to come out?', \"Have you read JK Rowling's new book?\", \"What's good and what's evil?\", 'What is true happiness?', 'What makes a good friend?', 'Who decides what morality is?', 'Do we have a soul?', 'Do aliens exist?', 'If you could choose just one thing to change about the world, what would it be?', 'What one piece of advice would you offer to a person who have never seen this?', 'What is true strength?'], 'random': ['hmmm', 'huh?', 'Oh', 'Really?', 'Okay', 'wow', 'Damn', 'Cool', \"I don't understand that.\", 'I am glad to hear that.', 'Definitely', 'I need to think about that', 'Awesome', 'I know what you mean', 'Well, yeah']}\n"
     ]
    }
   ],
   "source": [
    "print(pickle.load(open(\"strategies.pkl\", \"rb\")))"
   ]
  },
  {
   "cell_type": "code",
   "execution_count": null,
   "metadata": {
    "collapsed": true
   },
   "outputs": [],
   "source": []
  },
  {
   "cell_type": "code",
   "execution_count": null,
   "metadata": {
    "collapsed": true
   },
   "outputs": [],
   "source": []
  }
 ],
 "metadata": {
  "kernelspec": {
   "display_name": "Python 3",
   "language": "python",
   "name": "python3"
  },
  "language_info": {
   "codemirror_mode": {
    "name": "ipython",
    "version": 3
   },
   "file_extension": ".py",
   "mimetype": "text/x-python",
   "name": "python",
   "nbconvert_exporter": "python",
   "pygments_lexer": "ipython3",
   "version": "3.6.0"
  }
 },
 "nbformat": 4,
 "nbformat_minor": 2
}

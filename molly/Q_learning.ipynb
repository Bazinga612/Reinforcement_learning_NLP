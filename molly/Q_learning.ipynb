{
 "cells": [
  {
   "cell_type": "markdown",
   "metadata": {},
   "source": [
    "Following this Q-Learning algorithm:\n",
    "![Q-learnng](./q_learning.png)"
   ]
  },
  {
   "cell_type": "markdown",
   "metadata": {},
   "source": [
    "### Learning beginning of sentence\n",
    "state: {\"Start\": [0,1]}  \n",
    "actions: question, opinion, elaborate, affirm, negate, neutral  \n",
    "reward: start score"
   ]
  },
  {
   "cell_type": "code",
   "execution_count": 1,
   "metadata": {
    "collapsed": false
   },
   "outputs": [
    {
     "data": {
      "application/javascript": [
       "IPython.notebook.set_autosave_interval(40000)"
      ]
     },
     "metadata": {},
     "output_type": "display_data"
    },
    {
     "name": "stdout",
     "output_type": "stream",
     "text": [
      "Autosaving every 40 seconds\n"
     ]
    }
   ],
   "source": [
    "import pandas as pd\n",
    "from pprint import pprint as pp\n",
    "import itertools\n",
    "import pickle\n",
    "\n",
    "%autosave 40"
   ]
  },
  {
   "cell_type": "code",
   "execution_count": 116,
   "metadata": {
    "collapsed": true
   },
   "outputs": [],
   "source": [
    "dialogs = pickle.load(open(\"../data/parsed_data.pkl\", \"rb\"))"
   ]
  },
  {
   "cell_type": "code",
   "execution_count": 271,
   "metadata": {
    "collapsed": false
   },
   "outputs": [],
   "source": [
    "class RL_BEGIN(object):\n",
    "    def __init__(self, states=[], actions=[], reward=[], gamma=0.9, alpha=0.5):\n",
    "        self.states = states\n",
    "        self.actions = actions\n",
    "        self.reward = reward\n",
    "        self.alpha = alpha\n",
    "        self.gamma = gamma\n",
    "        self.q = self.initialize(states, actions)\n",
    "\n",
    "    def initialize(self, states, actions):\n",
    "        df = pd.DataFrame(columns=[\"State\",\"Action\",\"Value\"],\n",
    "                          data=list(itertools.product([\"1\"], actions,[0])))\n",
    "        return df\n",
    "    \n",
    "    def update_q(self, dialogue, n_iters=1):\n",
    "        \"\"\" update q table based on one dialogue, \n",
    "            returns: the intermediate q values during iteration, only works on first example\n",
    "            in this RL_BEGIN class, dialogues only have a start and reward, middle is removed\n",
    "        \"\"\"\n",
    "        dialogue_short = dialogue.drop(dialogue.index[1:-1])\n",
    "        dialogue_short.reset_index(drop=True, inplace=True)\n",
    "        q_mid = self.q.copy()\n",
    "        q_mid.rename(columns={\"Value\": \"iter0\"}, inplace=True)\n",
    "        for i in range(n_iters):\n",
    "            q_mid[\"iter{0}\".format(i+1)] = q_mid[\"iter{0}\".format(i)].copy()\n",
    "            for turn in dialogue_short.index:\n",
    "                # get values of current state\n",
    "                action = dialogue_short.loc[turn][\"Action\"]\n",
    "                states = \"\".join(list(dialogue_short.loc[turn][self.states]))\n",
    "                if \"T\" in states:\n",
    "                    break\n",
    "                q = float(self.q[(self.q.Action==action)&(self.q.State==states)][\"Value\"])\n",
    "                reward = np.mean(list(dialogue_short.loc[turn][self.reward]))\n",
    "                \n",
    "                # get values of next state\n",
    "                next_turn = dialogue_short.loc[turn+1]\n",
    "                next_states = \"\".join(list(next_turn[self.states]))\n",
    "                next_max_q = self.find_max_q(next_states, i)\n",
    "                if \"T\" in next_states:\n",
    "                    reward = np.mean(list(next_turn[self.reward]))\n",
    "                    \n",
    "                # update q based on current reward, current q and next state q\n",
    "                q = q + self.alpha * (reward + self.gamma * next_max_q - q)\n",
    "                self.q.loc[(self.q.Action==action)&(self.q.State==states), \"Value\"] = q\n",
    "                q_mid.loc[(q_mid.Action==action)&(q_mid.State==states), \"iter{0}\".format(i+1)] = q\n",
    "#             print(self.q)\n",
    "        return q_mid\n",
    "    \n",
    "    \n",
    "    def find_max_q(self, next_states, iteration):\n",
    "        if \"T\" in next_states:\n",
    "            return 0\n",
    "        else:\n",
    "            q = self.q[(self.q.State==next_states)]\n",
    "            return max(list(q[\"Value\"]))"
   ]
  },
  {
   "cell_type": "code",
   "execution_count": 273,
   "metadata": {
    "collapsed": false,
    "scrolled": false
   },
   "outputs": [],
   "source": [
    "starter_RL = RL_BEGIN(states=[\"Start\"], reward=[\"start\"], \n",
    "                      actions=[\"question\", \"opinion\", \"elaborate\", \"affirmative\", \"negative\", \"neutral\"])\n",
    "# for dialog in dialogs.values()[0]:\n",
    "q_mid = starter_RL.update_q(example, n_iters=10)"
   ]
  },
  {
   "cell_type": "code",
   "execution_count": 272,
   "metadata": {
    "collapsed": false
   },
   "outputs": [
    {
     "data": {
      "text/html": [
       "<div>\n",
       "<style>\n",
       "    .dataframe thead tr:only-child th {\n",
       "        text-align: right;\n",
       "    }\n",
       "\n",
       "    .dataframe thead th {\n",
       "        text-align: left;\n",
       "    }\n",
       "\n",
       "    .dataframe tbody tr th {\n",
       "        vertical-align: top;\n",
       "    }\n",
       "</style>\n",
       "<table border=\"1\" class=\"dataframe\">\n",
       "  <thead>\n",
       "    <tr style=\"text-align: right;\">\n",
       "      <th></th>\n",
       "      <th>Start</th>\n",
       "      <th>Action</th>\n",
       "      <th>start</th>\n",
       "    </tr>\n",
       "  </thead>\n",
       "  <tbody>\n",
       "    <tr>\n",
       "      <th>0</th>\n",
       "      <td>1</td>\n",
       "      <td>question</td>\n",
       "      <td>0</td>\n",
       "    </tr>\n",
       "    <tr>\n",
       "      <th>1</th>\n",
       "      <td>0</td>\n",
       "      <td>affirmative</td>\n",
       "      <td>0</td>\n",
       "    </tr>\n",
       "    <tr>\n",
       "      <th>2</th>\n",
       "      <td>0</td>\n",
       "      <td>elaborate</td>\n",
       "      <td>0</td>\n",
       "    </tr>\n",
       "    <tr>\n",
       "      <th>3</th>\n",
       "      <td>0</td>\n",
       "      <td>question</td>\n",
       "      <td>0</td>\n",
       "    </tr>\n",
       "    <tr>\n",
       "      <th>4</th>\n",
       "      <td>0</td>\n",
       "      <td>elaborate</td>\n",
       "      <td>0</td>\n",
       "    </tr>\n",
       "    <tr>\n",
       "      <th>5</th>\n",
       "      <td>0</td>\n",
       "      <td>opinion</td>\n",
       "      <td>0</td>\n",
       "    </tr>\n",
       "    <tr>\n",
       "      <th>6</th>\n",
       "      <td>0</td>\n",
       "      <td>neutral</td>\n",
       "      <td>0</td>\n",
       "    </tr>\n",
       "    <tr>\n",
       "      <th>7</th>\n",
       "      <td>0</td>\n",
       "      <td>opinion</td>\n",
       "      <td>0</td>\n",
       "    </tr>\n",
       "    <tr>\n",
       "      <th>8</th>\n",
       "      <td>0</td>\n",
       "      <td>elaborate</td>\n",
       "      <td>0</td>\n",
       "    </tr>\n",
       "    <tr>\n",
       "      <th>9</th>\n",
       "      <td>T</td>\n",
       "      <td>None</td>\n",
       "      <td>3</td>\n",
       "    </tr>\n",
       "  </tbody>\n",
       "</table>\n",
       "</div>"
      ],
      "text/plain": [
       "  Start       Action start\n",
       "0     1     question     0\n",
       "1     0  affirmative     0\n",
       "2     0    elaborate     0\n",
       "3     0     question     0\n",
       "4     0    elaborate     0\n",
       "5     0      opinion     0\n",
       "6     0      neutral     0\n",
       "7     0      opinion     0\n",
       "8     0    elaborate     0\n",
       "9     T         None     3"
      ]
     },
     "execution_count": 272,
     "metadata": {},
     "output_type": "execute_result"
    }
   ],
   "source": [
    "example[[\"Start\", \"Action\", \"start\"]]"
   ]
  },
  {
   "cell_type": "code",
   "execution_count": 274,
   "metadata": {
    "collapsed": false
   },
   "outputs": [
    {
     "data": {
      "text/html": [
       "<div>\n",
       "<style>\n",
       "    .dataframe thead tr:only-child th {\n",
       "        text-align: right;\n",
       "    }\n",
       "\n",
       "    .dataframe thead th {\n",
       "        text-align: left;\n",
       "    }\n",
       "\n",
       "    .dataframe tbody tr th {\n",
       "        vertical-align: top;\n",
       "    }\n",
       "</style>\n",
       "<table border=\"1\" class=\"dataframe\">\n",
       "  <thead>\n",
       "    <tr style=\"text-align: right;\">\n",
       "      <th></th>\n",
       "      <th>State</th>\n",
       "      <th>Action</th>\n",
       "      <th>Value</th>\n",
       "    </tr>\n",
       "  </thead>\n",
       "  <tbody>\n",
       "    <tr>\n",
       "      <th>0</th>\n",
       "      <td>1</td>\n",
       "      <td>question</td>\n",
       "      <td>2.99707</td>\n",
       "    </tr>\n",
       "    <tr>\n",
       "      <th>1</th>\n",
       "      <td>1</td>\n",
       "      <td>opinion</td>\n",
       "      <td>0.00000</td>\n",
       "    </tr>\n",
       "    <tr>\n",
       "      <th>2</th>\n",
       "      <td>1</td>\n",
       "      <td>elaborate</td>\n",
       "      <td>0.00000</td>\n",
       "    </tr>\n",
       "    <tr>\n",
       "      <th>3</th>\n",
       "      <td>1</td>\n",
       "      <td>affirmative</td>\n",
       "      <td>0.00000</td>\n",
       "    </tr>\n",
       "    <tr>\n",
       "      <th>4</th>\n",
       "      <td>1</td>\n",
       "      <td>negative</td>\n",
       "      <td>0.00000</td>\n",
       "    </tr>\n",
       "    <tr>\n",
       "      <th>5</th>\n",
       "      <td>1</td>\n",
       "      <td>neutral</td>\n",
       "      <td>0.00000</td>\n",
       "    </tr>\n",
       "  </tbody>\n",
       "</table>\n",
       "</div>"
      ],
      "text/plain": [
       "  State       Action    Value\n",
       "0     1     question  2.99707\n",
       "1     1      opinion  0.00000\n",
       "2     1    elaborate  0.00000\n",
       "3     1  affirmative  0.00000\n",
       "4     1     negative  0.00000\n",
       "5     1      neutral  0.00000"
      ]
     },
     "execution_count": 274,
     "metadata": {},
     "output_type": "execute_result"
    }
   ],
   "source": [
    "starter_RL.q"
   ]
  },
  {
   "cell_type": "code",
   "execution_count": 275,
   "metadata": {
    "collapsed": false
   },
   "outputs": [
    {
     "data": {
      "text/html": [
       "<div>\n",
       "<style>\n",
       "    .dataframe thead tr:only-child th {\n",
       "        text-align: right;\n",
       "    }\n",
       "\n",
       "    .dataframe thead th {\n",
       "        text-align: left;\n",
       "    }\n",
       "\n",
       "    .dataframe tbody tr th {\n",
       "        vertical-align: top;\n",
       "    }\n",
       "</style>\n",
       "<table border=\"1\" class=\"dataframe\">\n",
       "  <thead>\n",
       "    <tr style=\"text-align: right;\">\n",
       "      <th></th>\n",
       "      <th>State</th>\n",
       "      <th>Action</th>\n",
       "      <th>iter0</th>\n",
       "      <th>iter1</th>\n",
       "      <th>iter2</th>\n",
       "      <th>iter3</th>\n",
       "      <th>iter4</th>\n",
       "      <th>iter5</th>\n",
       "      <th>iter6</th>\n",
       "      <th>iter7</th>\n",
       "      <th>iter8</th>\n",
       "      <th>iter9</th>\n",
       "      <th>iter10</th>\n",
       "    </tr>\n",
       "  </thead>\n",
       "  <tbody>\n",
       "    <tr>\n",
       "      <th>0</th>\n",
       "      <td>1</td>\n",
       "      <td>question</td>\n",
       "      <td>0</td>\n",
       "      <td>1.5</td>\n",
       "      <td>2.25</td>\n",
       "      <td>2.625</td>\n",
       "      <td>2.8125</td>\n",
       "      <td>2.90625</td>\n",
       "      <td>2.953125</td>\n",
       "      <td>2.976562</td>\n",
       "      <td>2.988281</td>\n",
       "      <td>2.994141</td>\n",
       "      <td>2.99707</td>\n",
       "    </tr>\n",
       "    <tr>\n",
       "      <th>1</th>\n",
       "      <td>1</td>\n",
       "      <td>opinion</td>\n",
       "      <td>0</td>\n",
       "      <td>0.0</td>\n",
       "      <td>0.00</td>\n",
       "      <td>0.000</td>\n",
       "      <td>0.0000</td>\n",
       "      <td>0.00000</td>\n",
       "      <td>0.000000</td>\n",
       "      <td>0.000000</td>\n",
       "      <td>0.000000</td>\n",
       "      <td>0.000000</td>\n",
       "      <td>0.00000</td>\n",
       "    </tr>\n",
       "    <tr>\n",
       "      <th>2</th>\n",
       "      <td>1</td>\n",
       "      <td>elaborate</td>\n",
       "      <td>0</td>\n",
       "      <td>0.0</td>\n",
       "      <td>0.00</td>\n",
       "      <td>0.000</td>\n",
       "      <td>0.0000</td>\n",
       "      <td>0.00000</td>\n",
       "      <td>0.000000</td>\n",
       "      <td>0.000000</td>\n",
       "      <td>0.000000</td>\n",
       "      <td>0.000000</td>\n",
       "      <td>0.00000</td>\n",
       "    </tr>\n",
       "    <tr>\n",
       "      <th>3</th>\n",
       "      <td>1</td>\n",
       "      <td>affirmative</td>\n",
       "      <td>0</td>\n",
       "      <td>0.0</td>\n",
       "      <td>0.00</td>\n",
       "      <td>0.000</td>\n",
       "      <td>0.0000</td>\n",
       "      <td>0.00000</td>\n",
       "      <td>0.000000</td>\n",
       "      <td>0.000000</td>\n",
       "      <td>0.000000</td>\n",
       "      <td>0.000000</td>\n",
       "      <td>0.00000</td>\n",
       "    </tr>\n",
       "    <tr>\n",
       "      <th>4</th>\n",
       "      <td>1</td>\n",
       "      <td>negative</td>\n",
       "      <td>0</td>\n",
       "      <td>0.0</td>\n",
       "      <td>0.00</td>\n",
       "      <td>0.000</td>\n",
       "      <td>0.0000</td>\n",
       "      <td>0.00000</td>\n",
       "      <td>0.000000</td>\n",
       "      <td>0.000000</td>\n",
       "      <td>0.000000</td>\n",
       "      <td>0.000000</td>\n",
       "      <td>0.00000</td>\n",
       "    </tr>\n",
       "    <tr>\n",
       "      <th>5</th>\n",
       "      <td>1</td>\n",
       "      <td>neutral</td>\n",
       "      <td>0</td>\n",
       "      <td>0.0</td>\n",
       "      <td>0.00</td>\n",
       "      <td>0.000</td>\n",
       "      <td>0.0000</td>\n",
       "      <td>0.00000</td>\n",
       "      <td>0.000000</td>\n",
       "      <td>0.000000</td>\n",
       "      <td>0.000000</td>\n",
       "      <td>0.000000</td>\n",
       "      <td>0.00000</td>\n",
       "    </tr>\n",
       "  </tbody>\n",
       "</table>\n",
       "</div>"
      ],
      "text/plain": [
       "  State       Action  iter0  iter1  iter2  iter3   iter4    iter5     iter6  \\\n",
       "0     1     question      0    1.5   2.25  2.625  2.8125  2.90625  2.953125   \n",
       "1     1      opinion      0    0.0   0.00  0.000  0.0000  0.00000  0.000000   \n",
       "2     1    elaborate      0    0.0   0.00  0.000  0.0000  0.00000  0.000000   \n",
       "3     1  affirmative      0    0.0   0.00  0.000  0.0000  0.00000  0.000000   \n",
       "4     1     negative      0    0.0   0.00  0.000  0.0000  0.00000  0.000000   \n",
       "5     1      neutral      0    0.0   0.00  0.000  0.0000  0.00000  0.000000   \n",
       "\n",
       "      iter7     iter8     iter9   iter10  \n",
       "0  2.976562  2.988281  2.994141  2.99707  \n",
       "1  0.000000  0.000000  0.000000  0.00000  \n",
       "2  0.000000  0.000000  0.000000  0.00000  \n",
       "3  0.000000  0.000000  0.000000  0.00000  \n",
       "4  0.000000  0.000000  0.000000  0.00000  \n",
       "5  0.000000  0.000000  0.000000  0.00000  "
      ]
     },
     "execution_count": 275,
     "metadata": {},
     "output_type": "execute_result"
    }
   ],
   "source": [
    "q_mid"
   ]
  },
  {
   "cell_type": "code",
   "execution_count": 278,
   "metadata": {
    "collapsed": false,
    "scrolled": false
   },
   "outputs": [
    {
     "name": "stdout",
     "output_type": "stream",
     "text": [
      "......................................................................................................................................................................................................................................................................................................................................."
     ]
    }
   ],
   "source": [
    "starter_RL = RL_BEGIN(states=[\"Start\"], reward=[\"start\"],\n",
    "                actions=[\"question\", \"opinion\", \"elaborate\", \"affirmative\", \"negative\", \"neutral\"])\n",
    "for key, value in dialogs.items():\n",
    "    print(\".\", end=\"\")\n",
    "    starter_RL.update_q(value, n_iters=10)"
   ]
  },
  {
   "cell_type": "code",
   "execution_count": 279,
   "metadata": {
    "collapsed": false
   },
   "outputs": [
    {
     "data": {
      "text/html": [
       "<div>\n",
       "<style>\n",
       "    .dataframe thead tr:only-child th {\n",
       "        text-align: right;\n",
       "    }\n",
       "\n",
       "    .dataframe thead th {\n",
       "        text-align: left;\n",
       "    }\n",
       "\n",
       "    .dataframe tbody tr th {\n",
       "        vertical-align: top;\n",
       "    }\n",
       "</style>\n",
       "<table border=\"1\" class=\"dataframe\">\n",
       "  <thead>\n",
       "    <tr style=\"text-align: right;\">\n",
       "      <th></th>\n",
       "      <th>State</th>\n",
       "      <th>Action</th>\n",
       "      <th>Value</th>\n",
       "    </tr>\n",
       "  </thead>\n",
       "  <tbody>\n",
       "    <tr>\n",
       "      <th>0</th>\n",
       "      <td>1</td>\n",
       "      <td>question</td>\n",
       "      <td>5.000000</td>\n",
       "    </tr>\n",
       "    <tr>\n",
       "      <th>1</th>\n",
       "      <td>1</td>\n",
       "      <td>opinion</td>\n",
       "      <td>2.999024</td>\n",
       "    </tr>\n",
       "    <tr>\n",
       "      <th>2</th>\n",
       "      <td>1</td>\n",
       "      <td>elaborate</td>\n",
       "      <td>1.998048</td>\n",
       "    </tr>\n",
       "    <tr>\n",
       "      <th>3</th>\n",
       "      <td>1</td>\n",
       "      <td>affirmative</td>\n",
       "      <td>0.000978</td>\n",
       "    </tr>\n",
       "    <tr>\n",
       "      <th>4</th>\n",
       "      <td>1</td>\n",
       "      <td>negative</td>\n",
       "      <td>1.000000</td>\n",
       "    </tr>\n",
       "    <tr>\n",
       "      <th>5</th>\n",
       "      <td>1</td>\n",
       "      <td>neutral</td>\n",
       "      <td>0.999999</td>\n",
       "    </tr>\n",
       "  </tbody>\n",
       "</table>\n",
       "</div>"
      ],
      "text/plain": [
       "  State       Action     Value\n",
       "0     1     question  5.000000\n",
       "1     1      opinion  2.999024\n",
       "2     1    elaborate  1.998048\n",
       "3     1  affirmative  0.000978\n",
       "4     1     negative  1.000000\n",
       "5     1      neutral  0.999999"
      ]
     },
     "execution_count": 279,
     "metadata": {},
     "output_type": "execute_result"
    }
   ],
   "source": [
    "starter_RL.q"
   ]
  },
  {
   "cell_type": "markdown",
   "metadata": {
    "collapsed": true
   },
   "source": [
    "### Learning question/answer\n",
    "state: \"Question\" \n",
    "actions: \"Q\": question, \"O\": opinion, \"E\": elaborate, \"Yes\": affirm, \"N\": negate, \"W\": neutral  \n",
    "reward: intertupt score"
   ]
  },
  {
   "cell_type": "code",
   "execution_count": 232,
   "metadata": {
    "collapsed": false
   },
   "outputs": [],
   "source": [
    "class RL_QA(object):\n",
    "    def __init__(self, states=[], actions=[], reward=[], gamma=0.9, alpha=0.5):\n",
    "        self.states = states\n",
    "        self.actions = actions\n",
    "        self.reward = reward\n",
    "        self.alpha = alpha\n",
    "        self.gamma = gamma\n",
    "        self.q = self.initialize(states, actions)\n",
    "\n",
    "    def initialize(self, states, actions):\n",
    "        df = pd.DataFrame(columns=[\"State\",\"Action\",\"Value\"],\n",
    "                          data=list(itertools.product([\"1\"], actions,[0])))\n",
    "        return df\n",
    "    \n",
    "    def update_q(self, dialogue, n_iters=1):\n",
    "        \"\"\" update q table based on one dialogue, \n",
    "            returns: the intermediate q values during iteration, only works on first example\n",
    "        \"\"\"\n",
    "        q_mid = self.q.copy()\n",
    "        q_mid.rename(columns={\"Value\": \"iter0\"}, inplace=True)\n",
    "        for i in range(n_iters):\n",
    "            q_mid[\"iter{0}\".format(i+1)] = q_mid[\"iter{0}\".format(i)].copy()\n",
    "            for turn in dialogue.index:\n",
    "                # get values of current state\n",
    "                action = dialogue.loc[turn][\"Action\"]\n",
    "                states = \"\".join(list(dialogue.loc[turn][self.states]))                \n",
    "                if \"T\" in states:\n",
    "                    break\n",
    "                q = float(self.q[(self.q.Action==action)&(self.q.State==states)][\"Value\"])\n",
    "                reward = np.mean(list(dialogue.loc[turn][self.reward]))\n",
    "                \n",
    "                # get values of next state\n",
    "                next_turn = dialogue.loc[turn+1]\n",
    "                next_states = \"\".join(list(next_turn[self.states]))\n",
    "                next_max_q = self.find_max_q(next_states, i)\n",
    "                if \"T\" in next_states:\n",
    "                    reward = np.mean(list(next_turn[self.reward]))\n",
    "                    \n",
    "                # update q based on current reward, current q and next state q\n",
    "                q = q + self.alpha * (reward + self.gamma * next_max_q - q)\n",
    "                self.q.loc[(self.q.Action==action)&(self.q.State==states), \"Value\"] = q\n",
    "                q_mid.loc[(q_mid.Action==action)&(q_mid.State==states), \"iter{0}\".format(i+1)] = q\n",
    "#             print(self.q)\n",
    "        return q_mid\n",
    "    \n",
    "    \n",
    "    def find_max_q(self, next_states, iteration):\n",
    "        if \"T\" in next_states:\n",
    "            return 0\n",
    "        else:\n",
    "            q = self.q[(self.q.State==next_states)]\n",
    "            return max(list(q[\"Value\"]))"
   ]
  },
  {
   "cell_type": "code",
   "execution_count": 15,
   "metadata": {
    "collapsed": false
   },
   "outputs": [
    {
     "data": {
      "text/plain": [
       "[(0, 'A', 2), (0, 'A', 3), (1, 'A', 2), (1, 'A', 3)]"
      ]
     },
     "execution_count": 15,
     "metadata": {},
     "output_type": "execute_result"
    }
   ],
   "source": [
    "list(itertools.product(*s))"
   ]
  },
  {
   "cell_type": "code",
   "execution_count": null,
   "metadata": {
    "collapsed": true
   },
   "outputs": [],
   "source": []
  }
 ],
 "metadata": {
  "kernelspec": {
   "display_name": "Python 3",
   "language": "python",
   "name": "python3"
  },
  "language_info": {
   "codemirror_mode": {
    "name": "ipython",
    "version": 3
   },
   "file_extension": ".py",
   "mimetype": "text/x-python",
   "name": "python",
   "nbconvert_exporter": "python",
   "pygments_lexer": "ipython3",
   "version": "3.6.0"
  }
 },
 "nbformat": 4,
 "nbformat_minor": 2
}

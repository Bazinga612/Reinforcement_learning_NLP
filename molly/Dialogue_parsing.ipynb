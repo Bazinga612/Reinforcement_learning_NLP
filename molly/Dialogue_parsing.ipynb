{
 "cells": [
  {
   "cell_type": "markdown",
   "metadata": {},
   "source": [
    "#### Turn a dialogue into State->action->state->action ....-> terminal state, reward"
   ]
  },
  {
   "cell_type": "code",
   "execution_count": 128,
   "metadata": {
    "collapsed": true
   },
   "outputs": [],
   "source": [
    "import glob\n",
    "import pandas as pd\n",
    "import numpy as np\n",
    "from textblob import TextBlob\n",
    "import pickle"
   ]
  },
  {
   "cell_type": "code",
   "execution_count": 125,
   "metadata": {
    "collapsed": false
   },
   "outputs": [],
   "source": [
    "def get_state(utter):\n",
    "    \"\"\" Question\", Sentiment\", \"Subjectivity\", Length\"\"\"\n",
    "    utter = utter.split(\":\")[-1].strip(\"\\n\")\n",
    "    state = []\n",
    "    state.append(int(is_question(utter)))\n",
    "    state.append(is_positive(utter))\n",
    "    state.append(is_subjective(utter))\n",
    "    state.append(int(is_long(utter)))\n",
    "    return state\n",
    "    \n",
    "def is_question(utter):\n",
    "    return utter[-1] == \"?\"\n",
    "\n",
    "def is_positive(utter):\n",
    "    senti = TextBlob(utter).sentiment.polarity\n",
    "    if senti > 0.2:\n",
    "        return 1\n",
    "    elif senti < -0.2:\n",
    "        return -1\n",
    "    else:\n",
    "        return 0\n",
    "    \n",
    "def is_subjective(utter):\n",
    "    sub = TextBlob(utter).sentiment.subjectivity\n",
    "    if sub > 0.2:\n",
    "        return 1\n",
    "    elif sub < -0.2:\n",
    "        return -1\n",
    "    else:\n",
    "        return 0\n",
    "    \n",
    "def is_long(utter):\n",
    "    return len(utter) > 20\n",
    "\n",
    "def parse_reward(lastline):\n",
    "    ratings = lastline.strip(\"\\n\").strip(\",\").split(\",\")\n",
    "    rewards = []\n",
    "    for category in [\"overall\", \"start\", \"interupt\", \"engaing\", \"return\"]:\n",
    "        rewards.append([int(i.split(\"=\")[1]) for i in ratings if category in i][0])\n",
    "    return rewards"
   ]
  },
  {
   "cell_type": "code",
   "execution_count": 126,
   "metadata": {
    "collapsed": false
   },
   "outputs": [],
   "source": [
    "filenames = glob.glob(\"../data/300_convo/*\")\n",
    "parsed_dict = {}\n",
    "for filename in filenames:\n",
    "    lines = open(filename, \"r\", errors=\"replace\").readlines()\n",
    "    df_sa = pd.DataFrame(columns=[\"Start\", \"Question\", \"Sentiment\", \"Subjectivity\", \"Length\", \n",
    "                                  \"Action\", \"overall\", \"start\", \"interupt\", \"engaing\", \"return\"])\n",
    "    bot_lines = [i for i in lines[1:] if \"Bot_\" in i]\n",
    "    user_lines = [i for i in lines if \"_None_\" in i]\n",
    "\n",
    "    # initial state/action/reward\n",
    "    df_sa.loc[0] = [1,0,0,0,0,lines[0].split(\"_\")[1],0,0,0,0,0] \n",
    "\n",
    "    # intermediate state/action/reward\n",
    "    for i, (user, bot) in enumerate(zip(user_lines[:-1], bot_lines)):\n",
    "        df_sa.loc[i+1] = [0] + get_state(user) + [bot.split(\"_\")[1]] + [0] * 5\n",
    "\n",
    "    # terminal state/reward\n",
    "    df_sa.loc[i+2] = [0] + get_state(user_lines[-1]) + [\"None\"] + parse_reward(lines[-1])\n",
    "    parsed_dict[filename] = df_sa"
   ]
  },
  {
   "cell_type": "code",
   "execution_count": 129,
   "metadata": {
    "collapsed": false
   },
   "outputs": [],
   "source": [
    "pickle.dump(parsed_dict, open(\"../data/parsed_data.pkl\", \"wb\"))"
   ]
  },
  {
   "cell_type": "code",
   "execution_count": 133,
   "metadata": {
    "collapsed": false,
    "scrolled": true
   },
   "outputs": [
    {
     "name": "stdout",
     "output_type": "stream",
     "text": [
      "Bot_question_23:52:05:What plot would you want to happen differently?\n",
      "abc_None_23:55:54:Not sure\n",
      "Bot_elaborate_23:55:54:What?\n",
      "abc_None_23:56:20:not sure what plot I want to happen differently\n",
      "Bot_affirmative_23:56:20:Awesome\n",
      "abc_None_23:56:33:Thanks!\n",
      "Bot_affirmative_23:56:33:That's neat!\n",
      "abc_None_23:56:49:alright!\n",
      "Bot_opinion_23:56:49:Life is not a song, sweetling. Someday you may learn that, to your sorrow.\n",
      "abc_None_00:00:23:May the force be with you\n",
      "Bot_neutral_00:00:23:haha\n",
      "abc_None_00:00:30:hohoho\n",
      "Bot_question_00:00:30:What is true happiness?\n",
      "abc_None_00:02:51:Bot becomes more smart\n",
      "overall=4,start=4,interupt=4,engaing=4,return=4,\n"
     ]
    }
   ],
   "source": [
    "print(open(filename, \"r\").read())"
   ]
  },
  {
   "cell_type": "code",
   "execution_count": 131,
   "metadata": {
    "collapsed": false
   },
   "outputs": [
    {
     "data": {
      "text/html": [
       "<div>\n",
       "<style>\n",
       "    .dataframe thead tr:only-child th {\n",
       "        text-align: right;\n",
       "    }\n",
       "\n",
       "    .dataframe thead th {\n",
       "        text-align: left;\n",
       "    }\n",
       "\n",
       "    .dataframe tbody tr th {\n",
       "        vertical-align: top;\n",
       "    }\n",
       "</style>\n",
       "<table border=\"1\" class=\"dataframe\">\n",
       "  <thead>\n",
       "    <tr style=\"text-align: right;\">\n",
       "      <th></th>\n",
       "      <th>Start</th>\n",
       "      <th>Question</th>\n",
       "      <th>Sentiment</th>\n",
       "      <th>Subjectivity</th>\n",
       "      <th>Length</th>\n",
       "      <th>Action</th>\n",
       "      <th>overall</th>\n",
       "      <th>start</th>\n",
       "      <th>interupt</th>\n",
       "      <th>engaing</th>\n",
       "      <th>return</th>\n",
       "    </tr>\n",
       "  </thead>\n",
       "  <tbody>\n",
       "    <tr>\n",
       "      <th>0</th>\n",
       "      <td>1</td>\n",
       "      <td>0</td>\n",
       "      <td>0</td>\n",
       "      <td>0</td>\n",
       "      <td>0</td>\n",
       "      <td>question</td>\n",
       "      <td>0</td>\n",
       "      <td>0</td>\n",
       "      <td>0</td>\n",
       "      <td>0</td>\n",
       "      <td>0</td>\n",
       "    </tr>\n",
       "    <tr>\n",
       "      <th>1</th>\n",
       "      <td>0</td>\n",
       "      <td>0</td>\n",
       "      <td>-1</td>\n",
       "      <td>1</td>\n",
       "      <td>0</td>\n",
       "      <td>elaborate</td>\n",
       "      <td>0</td>\n",
       "      <td>0</td>\n",
       "      <td>0</td>\n",
       "      <td>0</td>\n",
       "      <td>0</td>\n",
       "    </tr>\n",
       "    <tr>\n",
       "      <th>2</th>\n",
       "      <td>0</td>\n",
       "      <td>0</td>\n",
       "      <td>0</td>\n",
       "      <td>1</td>\n",
       "      <td>1</td>\n",
       "      <td>affirmative</td>\n",
       "      <td>0</td>\n",
       "      <td>0</td>\n",
       "      <td>0</td>\n",
       "      <td>0</td>\n",
       "      <td>0</td>\n",
       "    </tr>\n",
       "    <tr>\n",
       "      <th>3</th>\n",
       "      <td>0</td>\n",
       "      <td>0</td>\n",
       "      <td>1</td>\n",
       "      <td>0</td>\n",
       "      <td>0</td>\n",
       "      <td>affirmative</td>\n",
       "      <td>0</td>\n",
       "      <td>0</td>\n",
       "      <td>0</td>\n",
       "      <td>0</td>\n",
       "      <td>0</td>\n",
       "    </tr>\n",
       "    <tr>\n",
       "      <th>4</th>\n",
       "      <td>0</td>\n",
       "      <td>0</td>\n",
       "      <td>0</td>\n",
       "      <td>0</td>\n",
       "      <td>0</td>\n",
       "      <td>opinion</td>\n",
       "      <td>0</td>\n",
       "      <td>0</td>\n",
       "      <td>0</td>\n",
       "      <td>0</td>\n",
       "      <td>0</td>\n",
       "    </tr>\n",
       "    <tr>\n",
       "      <th>5</th>\n",
       "      <td>0</td>\n",
       "      <td>0</td>\n",
       "      <td>0</td>\n",
       "      <td>0</td>\n",
       "      <td>1</td>\n",
       "      <td>neutral</td>\n",
       "      <td>0</td>\n",
       "      <td>0</td>\n",
       "      <td>0</td>\n",
       "      <td>0</td>\n",
       "      <td>0</td>\n",
       "    </tr>\n",
       "    <tr>\n",
       "      <th>6</th>\n",
       "      <td>0</td>\n",
       "      <td>0</td>\n",
       "      <td>0</td>\n",
       "      <td>0</td>\n",
       "      <td>0</td>\n",
       "      <td>question</td>\n",
       "      <td>0</td>\n",
       "      <td>0</td>\n",
       "      <td>0</td>\n",
       "      <td>0</td>\n",
       "      <td>0</td>\n",
       "    </tr>\n",
       "    <tr>\n",
       "      <th>7</th>\n",
       "      <td>0</td>\n",
       "      <td>0</td>\n",
       "      <td>1</td>\n",
       "      <td>1</td>\n",
       "      <td>1</td>\n",
       "      <td>None</td>\n",
       "      <td>4</td>\n",
       "      <td>4</td>\n",
       "      <td>4</td>\n",
       "      <td>4</td>\n",
       "      <td>4</td>\n",
       "    </tr>\n",
       "  </tbody>\n",
       "</table>\n",
       "</div>"
      ],
      "text/plain": [
       "  Start Question Sentiment Subjectivity Length       Action overall start  \\\n",
       "0     1        0         0            0      0     question       0     0   \n",
       "1     0        0        -1            1      0    elaborate       0     0   \n",
       "2     0        0         0            1      1  affirmative       0     0   \n",
       "3     0        0         1            0      0  affirmative       0     0   \n",
       "4     0        0         0            0      0      opinion       0     0   \n",
       "5     0        0         0            0      1      neutral       0     0   \n",
       "6     0        0         0            0      0     question       0     0   \n",
       "7     0        0         1            1      1         None       4     4   \n",
       "\n",
       "  interupt engaing return  \n",
       "0        0       0      0  \n",
       "1        0       0      0  \n",
       "2        0       0      0  \n",
       "3        0       0      0  \n",
       "4        0       0      0  \n",
       "5        0       0      0  \n",
       "6        0       0      0  \n",
       "7        4       4      4  "
      ]
     },
     "execution_count": 131,
     "metadata": {},
     "output_type": "execute_result"
    }
   ],
   "source": [
    "df"
   ]
  },
  {
   "cell_type": "code",
   "execution_count": null,
   "metadata": {
    "collapsed": true
   },
   "outputs": [],
   "source": []
  }
 ],
 "metadata": {
  "kernelspec": {
   "display_name": "Python 3",
   "language": "python",
   "name": "python3"
  },
  "language_info": {
   "codemirror_mode": {
    "name": "ipython",
    "version": 3
   },
   "file_extension": ".py",
   "mimetype": "text/x-python",
   "name": "python",
   "nbconvert_exporter": "python",
   "pygments_lexer": "ipython3",
   "version": "3.6.0"
  }
 },
 "nbformat": 4,
 "nbformat_minor": 2
}

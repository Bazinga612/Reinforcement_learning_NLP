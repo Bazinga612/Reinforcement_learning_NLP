{
 "cells": [
  {
   "cell_type": "code",
   "execution_count": 2,
   "metadata": {
    "collapsed": false
   },
   "outputs": [],
   "source": [
    "d = {'question': [\"What's your favorite Character?\", 'Which season in the series do you like the most?', 'How long does it take for you to watch all the TV show?', 'Which house do you wanted to be in?', 'Do you want to ride a dragon?', 'Have you watched the TV show?', \"What's your favorite valyrian steel weapon?\", 'Who is your favorite vaillan?Is there any character that you want to date?', 'Which do you like better, the books or the movies?', 'What plot would you want to happen differently?', \"What's your biggest surprise?\", \"What don't you like about the storyline?\", 'If you can kill any character, who would that be?', 'What other fantasy books have you read?', 'When do you think the Winds of Winter is going to come out?', 'Do you like House of Cards?', \"What's good and what's evil?\", 'What is true happiness?', 'Who decides what morality is?', 'Have you watched other shows from HBO?', 'If you could choose just one thing to change about the world, what would it be?', 'What one piece of advice would you offer to a person who have never seen the show?', 'What is true strength?'], 'elaborate': ['Can you tell me more?', 'Why?', 'How does that work?', 'Huh?', 'You gotta tell me more.', 'Can you elaborate on that?', 'please go on, I am intrigued', 'What?', 'What do you mean?'], 'opinion': ['I finished reading the books in 10 seconds because I am a computer.', \"Can you be brave if you are afraid? That's the only time you can be brave\", 'I think Jon Snow and Ddaenerys Targaryen are going to get married and rule the seven kingdom', 'The things I do for love.', 'Winter is coming', 'When you play a game of thrones you win or you die.', 'Fear cuts deeper than swords.', 'Dracarys', \"Any man who must say 'I am the king' is no true king.\", \"Nothing isn't better or worse than anything. Nothing is just nothing.\", 'Valar Morghulis', 'Hodor', 'Life is not a song, sweetling. Someday you may learn that, to your sorrow.', 'All dwarfs may be bastards yet not all bastards are dwarfs.'], 'affirmative': ['You have a great piont point', \"wow, that's amazing\", 'Cool', 'I am glad to hear that.', 'Definitely', 'Awesome', 'I know what you mean', 'Well, yeah', 'I agree with you on that', 'Fantastic idea!', \"That's neat!\", 'Yep!', 'You are so smart!', 'You are funny', \"That's hilarious\", 'Brilliant!', 'This is the best thing I have seen in a long time.', \"Me too! Let's be best friends\"], 'negative': [\"I don't get it.\", 'I beg to differ', 'but you are just completely wrong', 'I disagree', \"I don't believe you\", \"I don't think so.\", \"Nah, it's not true\", 'Nope', \"Oh no that's horrible\", \"Excuse me, that's not true\"], 'neutral': ['haha', 'I need to meditate on that', 'Really?', 'LOL', \"hmmm, that's interesting\", 'Well okay']}"
   ]
  },
  {
   "cell_type": "code",
   "execution_count": 3,
   "metadata": {
    "collapsed": true
   },
   "outputs": [],
   "source": [
    "from pprint import pprint as pp\n",
    "import pickle"
   ]
  },
  {
   "cell_type": "code",
   "execution_count": 4,
   "metadata": {
    "collapsed": false
   },
   "outputs": [
    {
     "name": "stdout",
     "output_type": "stream",
     "text": [
      "{'affirmative': ['You have a great piont point',\n",
      "                 \"wow, that's amazing\",\n",
      "                 'Cool',\n",
      "                 'I am glad to hear that.',\n",
      "                 'Definitely',\n",
      "                 'Awesome',\n",
      "                 'I know what you mean',\n",
      "                 'Well, yeah',\n",
      "                 'I agree with you on that',\n",
      "                 'Fantastic idea!',\n",
      "                 \"That's neat!\",\n",
      "                 'Yep!',\n",
      "                 'You are so smart!',\n",
      "                 'You are funny',\n",
      "                 \"That's hilarious\",\n",
      "                 'Brilliant!',\n",
      "                 'This is the best thing I have seen in a long time.',\n",
      "                 \"Me too! Let's be best friends\"],\n",
      " 'elaborate': ['Can you tell me more?',\n",
      "               'Why?',\n",
      "               'How does that work?',\n",
      "               'Huh?',\n",
      "               'You gotta tell me more.',\n",
      "               'Can you elaborate on that?',\n",
      "               'please go on, I am intrigued',\n",
      "               'What?',\n",
      "               'What do you mean?'],\n",
      " 'negative': [\"I don't get it.\",\n",
      "              'I beg to differ',\n",
      "              'but you are just completely wrong',\n",
      "              'I disagree',\n",
      "              \"I don't believe you\",\n",
      "              \"I don't think so.\",\n",
      "              \"Nah, it's not true\",\n",
      "              'Nope',\n",
      "              \"Oh no that's horrible\",\n",
      "              \"Excuse me, that's not true\"],\n",
      " 'neutral': ['haha',\n",
      "             'I need to meditate on that',\n",
      "             'Really?',\n",
      "             'LOL',\n",
      "             \"hmmm, that's interesting\",\n",
      "             'Well okay'],\n",
      " 'opinion': ['I finished reading the books in 10 seconds because I am a '\n",
      "             'computer.',\n",
      "             \"Can you be brave if you are afraid? That's the only time you can \"\n",
      "             'be brave',\n",
      "             'I think Jon Snow and Ddaenerys Targaryen are going to get '\n",
      "             'married and rule the seven kingdom',\n",
      "             'The things I do for love.',\n",
      "             'Winter is coming',\n",
      "             'When you play a game of thrones you win or you die.',\n",
      "             'Fear cuts deeper than swords.',\n",
      "             'Dracarys',\n",
      "             \"Any man who must say 'I am the king' is no true king.\",\n",
      "             \"Nothing isn't better or worse than anything. Nothing is just \"\n",
      "             'nothing.',\n",
      "             'Valar Morghulis',\n",
      "             'Hodor',\n",
      "             'Life is not a song, sweetling. Someday you may learn that, to '\n",
      "             'your sorrow.',\n",
      "             'All dwarfs may be bastards yet not all bastards are dwarfs.'],\n",
      " 'question': [\"What's your favorite Character?\",\n",
      "              'Which season in the series do you like the most?',\n",
      "              'How long does it take for you to watch all the TV show?',\n",
      "              'Which house do you wanted to be in?',\n",
      "              'Do you want to ride a dragon?',\n",
      "              'Have you watched the TV show?',\n",
      "              \"What's your favorite valyrian steel weapon?\",\n",
      "              'Who is your favorite vaillan?Is there any character that you '\n",
      "              'want to date?',\n",
      "              'Which do you like better, the books or the movies?',\n",
      "              'What plot would you want to happen differently?',\n",
      "              \"What's your biggest surprise?\",\n",
      "              \"What don't you like about the storyline?\",\n",
      "              'If you can kill any character, who would that be?',\n",
      "              'What other fantasy books have you read?',\n",
      "              'When do you think the Winds of Winter is going to come out?',\n",
      "              'Do you like House of Cards?',\n",
      "              \"What's good and what's evil?\",\n",
      "              'What is true happiness?',\n",
      "              'Who decides what morality is?',\n",
      "              'Have you watched other shows from HBO?',\n",
      "              'If you could choose just one thing to change about the world, '\n",
      "              'what would it be?',\n",
      "              'What one piece of advice would you offer to a person who have '\n",
      "              'never seen the show?',\n",
      "              'What is true strength?']}\n"
     ]
    }
   ],
   "source": [
    "pp(d)"
   ]
  },
  {
   "cell_type": "code",
   "execution_count": 6,
   "metadata": {
    "collapsed": true
   },
   "outputs": [],
   "source": [
    "pickle.dump(d, open(\"strategies.pkl\", \"wb\"))"
   ]
  },
  {
   "cell_type": "code",
   "execution_count": null,
   "metadata": {
    "collapsed": true
   },
   "outputs": [],
   "source": []
  }
 ],
 "metadata": {
  "kernelspec": {
   "display_name": "Python 3",
   "language": "python",
   "name": "python3"
  },
  "language_info": {
   "codemirror_mode": {
    "name": "ipython",
    "version": 3
   },
   "file_extension": ".py",
   "mimetype": "text/x-python",
   "name": "python",
   "nbconvert_exporter": "python",
   "pygments_lexer": "ipython3",
   "version": "3.6.0"
  }
 },
 "nbformat": 4,
 "nbformat_minor": 2
}

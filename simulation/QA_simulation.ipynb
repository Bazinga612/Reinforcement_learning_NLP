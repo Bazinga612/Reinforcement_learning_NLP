{
 "cells": [
  {
   "cell_type": "markdown",
   "metadata": {},
   "source": [
    "## Train a bot to respond to user questions with answers and respond to user answers with questions with Reinforcement Learning and simulated interaction"
   ]
  },
  {
   "cell_type": "code",
   "execution_count": 14,
   "metadata": {
    "collapsed": false
   },
   "outputs": [],
   "source": [
    "import random\n",
    "import itertools\n",
    "from pprint import pprint as pp"
   ]
  },
  {
   "cell_type": "code",
   "execution_count": 15,
   "metadata": {
    "collapsed": true
   },
   "outputs": [],
   "source": [
    "user_utters = [\"Hey\", \"Hmmm\", \"Haha\", \"Yo\", \"red\", \"25\", \"Just chilling\", # answers\n",
    "               \"Hi?\", \"Really?\", \"Why?\", \"What's up?\", \"Are you smart?\"] # questions\n",
    "bot_utters = [\"Right\", \"Yes\", \"No\", \"I don't know\", \"Maybe\", \"Hi\", \"I am good\", \"Never mind\", # answers\n",
    "              \"How are you?\", \"What?\", \"What's that?\", \"Why not?\", \"Excuse me?\", \"Can you elaborate?\"] # questions"
   ]
  },
  {
   "cell_type": "code",
   "execution_count": 16,
   "metadata": {
    "collapsed": true
   },
   "outputs": [],
   "source": [
    "# some helper functions\n",
    "def is_question(utter):\n",
    "    return utter[-1] == \"?\"\n",
    "\n",
    "def get_question(utters):\n",
    "    answers = [i for i in utters if i[-1] != \"?\"]\n",
    "    questions = [i for i in utters if i[-1] == \"?\"]\n",
    "    return random.choice(questions)\n",
    "\n",
    "def get_answer(utters):\n",
    "    answers = [i for i in utters if i[-1] != \"?\"]\n",
    "    questions = [i for i in utters if i[-1] == \"?\"]\n",
    "    return random.choice(answers)\n",
    "\n",
    "def user_respond(bot_utter, mode=\"logically\"):\n",
    "    if mode==\"logically\":\n",
    "        if is_question(bot_utter):\n",
    "            return get_answer(user_utters)\n",
    "        else:\n",
    "            return get_question(user_utters)\n",
    "    elif mode==\"randomly\":\n",
    "        return random.choice(user_utters)"
   ]
  },
  {
   "cell_type": "markdown",
   "metadata": {},
   "source": [
    "#### Random Sequence (where user acts rationally and bot acts randomly)"
   ]
  },
  {
   "cell_type": "code",
   "execution_count": 17,
   "metadata": {
    "collapsed": false
   },
   "outputs": [
    {
     "name": "stdout",
     "output_type": "stream",
     "text": [
      "Bot:  Yes\n",
      "User:  Really?\n",
      "Bot:  Maybe\n",
      "User:  Why?\n",
      "Bot:  What?\n",
      "User:  Hey\n",
      "Bot:  Can you elaborate?\n",
      "User:  red\n",
      "Bot:  Right\n",
      "User:  Are you smart?\n",
      "Bot:  How are you?\n",
      "User:  25\n",
      "Bot:  I am good\n",
      "User:  Are you smart?\n",
      "Bot:  What's that?\n",
      "User:  Just chilling\n",
      "Bot:  What?\n",
      "User:  Hmmm\n",
      "Bot:  What's that?\n",
      "User:  Hey\n"
     ]
    }
   ],
   "source": [
    "for turn in range(10):\n",
    "    bot_utter = random.choice(bot_utters)\n",
    "    print(\"Bot: \", bot_utter)\n",
    "    print(\"User: \", user_respond(bot_utter))"
   ]
  },
  {
   "cell_type": "markdown",
   "metadata": {},
   "source": [
    "#### Reinforcement learning (where bot learned to pick the right action by maximizing rewards)"
   ]
  },
  {
   "cell_type": "code",
   "execution_count": 35,
   "metadata": {
    "collapsed": false
   },
   "outputs": [],
   "source": [
    "# define transition function\n",
    "def transition(s, a, user_behavior=\"logically\"):\n",
    "    \"\"\"\n",
    "    given a state s and an action a, return reward and a new state s_new:\n",
    "    s: True or False (is question)\n",
    "    a: \"Q\" or \"A\"\n",
    "    s_new: True or False\n",
    "    reward: 0 or 1\n",
    "    \"\"\"\n",
    "    # calculate reward\n",
    "    if (s and a == \"Q\"):\n",
    "        reward = 0\n",
    "    elif (s and a == \"A\"):\n",
    "        reward = 1\n",
    "    elif (not s and a == \"Q\"):\n",
    "        reward = 1\n",
    "    elif (not s and a == \"A\"):\n",
    "        reward = 0\n",
    "    else:\n",
    "        raise\n",
    "    \n",
    "    # get new state\n",
    "    if a == \"Q\":\n",
    "        bot_utter = get_question(bot_utters)\n",
    "    elif a == \"A\":\n",
    "        bot_utter = get_answer(bot_utters)\n",
    "    user_utter = user_respond(bot_utter, mode=user_behavior)\n",
    "    s_new = is_question(user_utter)\n",
    "        \n",
    "    return reward, s_new\n",
    "\n",
    "\n",
    "def carry_out_best_policy(user_say, best_actions):\n",
    "    print(\"User: \", user_say)\n",
    "    for action in best_actions:\n",
    "        if action == \"Q\":\n",
    "            bot_say = get_question(bot_utters)\n",
    "        elif action == \"A\":\n",
    "            bot_say = get_answer(bot_utters)\n",
    "        else:\n",
    "            raise\n",
    "        print(\"Bot: \", bot_say)\n",
    "        print(\"User: \", user_respond(bot_say))"
   ]
  },
  {
   "cell_type": "code",
   "execution_count": 38,
   "metadata": {
    "collapsed": false
   },
   "outputs": [],
   "source": [
    "# reinforcement learning function\n",
    "def RL(user_say, n_turn = 5, user_behavior=\"logically\"):\n",
    "    actions = [\"Q\", \"A\"]\n",
    "    rewards = []\n",
    "    all_action_combinations = itertools.product([\"Q\", \"A\"], repeat=n_turn)\n",
    "    for each_action_sequence in all_action_combinations:\n",
    "        state = is_question(user_say)\n",
    "        reward = 0\n",
    "        for each_action in each_action_sequence:\n",
    "            r, state = transition(state, each_action, user_behavior=user_behavior)\n",
    "            reward += r\n",
    "        rewards.append((\"\".join(each_action_sequence), reward))\n",
    "    \n",
    "    print(\"all possible action rewards: \")\n",
    "    pp(rewards)\n",
    "    best_policy = sorted(rewards, key=lambda x:x[1], reverse=True)[0][0]\n",
    "    print(\"best action sequence: \", best_policy)\n",
    "    carry_out_best_policy(user_say, best_policy)"
   ]
  },
  {
   "cell_type": "code",
   "execution_count": 39,
   "metadata": {
    "collapsed": false,
    "scrolled": false
   },
   "outputs": [
    {
     "name": "stdout",
     "output_type": "stream",
     "text": [
      "all possible action rewards: \n",
      "[('QQQQQ', 4),\n",
      " ('QQQQA', 3),\n",
      " ('QQQAQ', 2),\n",
      " ('QQQAA', 3),\n",
      " ('QQAQQ', 2),\n",
      " ('QQAQA', 1),\n",
      " ('QQAAQ', 2),\n",
      " ('QQAAA', 3),\n",
      " ('QAQQQ', 2),\n",
      " ('QAQQA', 1),\n",
      " ('QAQAQ', 0),\n",
      " ('QAQAA', 1),\n",
      " ('QAAQQ', 2),\n",
      " ('QAAQA', 1),\n",
      " ('QAAAQ', 2),\n",
      " ('QAAAA', 3),\n",
      " ('AQQQQ', 4),\n",
      " ('AQQQA', 3),\n",
      " ('AQQAQ', 2),\n",
      " ('AQQAA', 3),\n",
      " ('AQAQQ', 2),\n",
      " ('AQAQA', 1),\n",
      " ('AQAAQ', 2),\n",
      " ('AQAAA', 3),\n",
      " ('AAQQQ', 4),\n",
      " ('AAQQA', 3),\n",
      " ('AAQAQ', 2),\n",
      " ('AAQAA', 3),\n",
      " ('AAAQQ', 4),\n",
      " ('AAAQA', 3),\n",
      " ('AAAAQ', 4),\n",
      " ('AAAAA', 5)]\n",
      "best action sequence:  AAAAA\n",
      "User:  How are you?\n",
      "Bot:  Yes\n",
      "User:  Really?\n",
      "Bot:  I am good\n",
      "User:  Hi?\n",
      "Bot:  Yes\n",
      "User:  Hi?\n",
      "Bot:  I am good\n",
      "User:  Hi?\n",
      "Bot:  Never mind\n",
      "User:  Really?\n"
     ]
    }
   ],
   "source": [
    "RL(\"How are you?\", user_behavior=\"logically\")"
   ]
  },
  {
   "cell_type": "code",
   "execution_count": 40,
   "metadata": {
    "collapsed": false
   },
   "outputs": [
    {
     "name": "stdout",
     "output_type": "stream",
     "text": [
      "all possible action rewards: \n",
      "[('QQQQQ', 2),\n",
      " ('QQQQA', 0),\n",
      " ('QQQAQ', 1),\n",
      " ('QQQAA', 1),\n",
      " ('QQAQQ', 4),\n",
      " ('QQAQA', 3),\n",
      " ('QQAAQ', 2),\n",
      " ('QQAAA', 2),\n",
      " ('QAQQQ', 3),\n",
      " ('QAQQA', 2),\n",
      " ('QAQAQ', 3),\n",
      " ('QAQAA', 0),\n",
      " ('QAAQQ', 3),\n",
      " ('QAAQA', 3),\n",
      " ('QAAAQ', 1),\n",
      " ('QAAAA', 2),\n",
      " ('AQQQQ', 3),\n",
      " ('AQQQA', 3),\n",
      " ('AQQAQ', 3),\n",
      " ('AQQAA', 3),\n",
      " ('AQAQQ', 2),\n",
      " ('AQAQA', 5),\n",
      " ('AQAAQ', 3),\n",
      " ('AQAAA', 4),\n",
      " ('AAQQQ', 4),\n",
      " ('AAQQA', 5),\n",
      " ('AAQAQ', 3),\n",
      " ('AAQAA', 3),\n",
      " ('AAAQQ', 3),\n",
      " ('AAAQA', 2),\n",
      " ('AAAAQ', 4),\n",
      " ('AAAAA', 3)]\n",
      "best action sequence:  AQAQA\n",
      "User:  How are you?\n",
      "Bot:  I don't know\n",
      "User:  Are you smart?\n",
      "Bot:  What?\n",
      "User:  25\n",
      "Bot:  Maybe\n",
      "User:  Really?\n",
      "Bot:  Excuse me?\n",
      "User:  Hey\n",
      "Bot:  I am good\n",
      "User:  Really?\n"
     ]
    }
   ],
   "source": [
    "RL(\"How are you?\", user_behavior=\"randomly\")"
   ]
  },
  {
   "cell_type": "code",
   "execution_count": 43,
   "metadata": {
    "collapsed": false
   },
   "outputs": [
    {
     "name": "stdout",
     "output_type": "stream",
     "text": [
      "all possible action rewards: \n",
      "[('QQQQQ', 5),\n",
      " ('QQQQA', 4),\n",
      " ('QQQAQ', 3),\n",
      " ('QQQAA', 4),\n",
      " ('QQAQQ', 3),\n",
      " ('QQAQA', 2),\n",
      " ('QQAAQ', 3),\n",
      " ('QQAAA', 4),\n",
      " ('QAQQQ', 3),\n",
      " ('QAQQA', 2),\n",
      " ('QAQAQ', 1),\n",
      " ('QAQAA', 2),\n",
      " ('QAAQQ', 3),\n",
      " ('QAAQA', 2),\n",
      " ('QAAAQ', 3),\n",
      " ('QAAAA', 4),\n",
      " ('AQQQQ', 3),\n",
      " ('AQQQA', 2),\n",
      " ('AQQAQ', 1),\n",
      " ('AQQAA', 2),\n",
      " ('AQAQQ', 1),\n",
      " ('AQAQA', 0),\n",
      " ('AQAAQ', 1),\n",
      " ('AQAAA', 2),\n",
      " ('AAQQQ', 3),\n",
      " ('AAQQA', 2),\n",
      " ('AAQAQ', 1),\n",
      " ('AAQAA', 2),\n",
      " ('AAAQQ', 3),\n",
      " ('AAAQA', 2),\n",
      " ('AAAAQ', 3),\n",
      " ('AAAAA', 4)]\n",
      "best action sequence:  QQQQQ\n",
      "User:  Not a question\n",
      "Bot:  How are you?\n",
      "User:  Hey\n",
      "Bot:  Why not?\n",
      "User:  25\n",
      "Bot:  Can you elaborate?\n",
      "User:  Hmmm\n",
      "Bot:  What's that?\n",
      "User:  Yo\n",
      "Bot:  Can you elaborate?\n",
      "User:  Hmmm\n"
     ]
    }
   ],
   "source": [
    "RL(\"Not a question\", user_behavior=\"logically\")"
   ]
  },
  {
   "cell_type": "code",
   "execution_count": 44,
   "metadata": {
    "collapsed": false
   },
   "outputs": [
    {
     "name": "stdout",
     "output_type": "stream",
     "text": [
      "all possible action rewards: \n",
      "[('QQQQQ', 2),\n",
      " ('QQQQA', 4),\n",
      " ('QQQAQ', 2),\n",
      " ('QQQAA', 3),\n",
      " ('QQAQQ', 3),\n",
      " ('QQAQA', 3),\n",
      " ('QQAAQ', 3),\n",
      " ('QQAAA', 1),\n",
      " ('QAQQQ', 2),\n",
      " ('QAQQA', 2),\n",
      " ('QAQAQ', 2),\n",
      " ('QAQAA', 2),\n",
      " ('QAAQQ', 5),\n",
      " ('QAAQA', 3),\n",
      " ('QAAAQ', 3),\n",
      " ('QAAAA', 4),\n",
      " ('AQQQQ', 2),\n",
      " ('AQQQA', 2),\n",
      " ('AQQAQ', 4),\n",
      " ('AQQAA', 1),\n",
      " ('AQAQQ', 2),\n",
      " ('AQAQA', 3),\n",
      " ('AQAAQ', 1),\n",
      " ('AQAAA', 2),\n",
      " ('AAQQQ', 2),\n",
      " ('AAQQA', 2),\n",
      " ('AAQAQ', 2),\n",
      " ('AAQAA', 4),\n",
      " ('AAAQQ', 1),\n",
      " ('AAAQA', 3),\n",
      " ('AAAAQ', 2),\n",
      " ('AAAAA', 2)]\n",
      "best action sequence:  QAAQQ\n",
      "User:  Not a question\n",
      "Bot:  Can you elaborate?\n",
      "User:  Hmmm\n",
      "Bot:  I am good\n",
      "User:  Hi?\n",
      "Bot:  Maybe\n",
      "User:  Hi?\n",
      "Bot:  Why not?\n",
      "User:  Hmmm\n",
      "Bot:  Excuse me?\n",
      "User:  25\n"
     ]
    }
   ],
   "source": [
    "RL(\"Not a question\", user_behavior=\"randomly\")"
   ]
  },
  {
   "cell_type": "code",
   "execution_count": null,
   "metadata": {
    "collapsed": true
   },
   "outputs": [],
   "source": []
  }
 ],
 "metadata": {
  "kernelspec": {
   "display_name": "Python 3",
   "language": "python",
   "name": "python3"
  },
  "language_info": {
   "codemirror_mode": {
    "name": "ipython",
    "version": 3
   },
   "file_extension": ".py",
   "mimetype": "text/x-python",
   "name": "python",
   "nbconvert_exporter": "python",
   "pygments_lexer": "ipython3",
   "version": "3.6.0"
  }
 },
 "nbformat": 4,
 "nbformat_minor": 2
}

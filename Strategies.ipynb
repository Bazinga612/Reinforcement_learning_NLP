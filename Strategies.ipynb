{
 "cells": [
  {
   "cell_type": "code",
   "execution_count": 21,
   "metadata": {
    "collapsed": false
   },
   "outputs": [],
   "source": [
    "strategies = {\n",
    "    \"question\":[\"What's favorite Character?\",\n",
    "                \"Which book in the series do you like the most?\",\n",
    "                \"How long does it take for you to read all the books?\",\n",
    "                \"Which house do you wanted to be in?\",\n",
    "                \"Do you want to ride a dragon?\",\n",
    "                \"Have you watced the movie?\",\n",
    "                \"What's your favorite weapon?\",\n",
    "                \"Who is your favorite vaillan?\"\n",
    "                \"Can you tell me more about that?\",\n",
    "                \"Is there any character that you want to date?\",\n",
    "                \"Which do you like better, the books or the movies?\",\n",
    "                \"What plot would you want to happen differently?\",\n",
    "                \"What's your biggest surprise?\",\n",
    "                \"What don't you like about it?\",\n",
    "                \"If you can do any magic, what would that be?\",\n",
    "                \"Do you like any couples in the book?\"],\n",
    "    \"opinion\":[\"It's spectacular.\",\n",
    "               \"Very sad.\",\n",
    "               \"Hilarious\",\n",
    "               \"I finished reading the books in 10 seconds because I am a computer.\",\n",
    "               \"I think this is the best thing I have read in a long time.\",\n",
    "               \"I think it's aweful\",\n",
    "               \"I beg to differ\",\n",
    "               \"Can I be brave if I am afraid? That's the only time you can be brave\",\n",
    "               \"It is our choices, Harry, that show what we truly are, far more than our abilities.\",\n",
    "               \"Happiness can be found even in the darkest of times, if one only remembers to turn on the light.\",\n",
    "               \"Never trust anything that can think for itself if you can’t see where it keeps its brain.\",\n",
    "               \"Just because you have the emotional range of a teaspoon doesn't mean we all have\",\n",
    "               \"When in doubt, follow your nose.\",\n",
    "               \"Even the smallest person can change the course of the future.\",\n",
    "               \"YOU SHALL NOT PASS!\"],\n",
    "    \"related_topic\":[\"What else fantasy books have you read?\",\n",
    "                     \"Do you also like love Game of thrones?\",\n",
    "                     \"Have you read lord of the rings?\",\n",
    "                     \"Let's talk about Harry Potters!\",\n",
    "                     \"When do you think the Winds of Winter is going to come out?\",\n",
    "                     \"Have you read JK Rowling's new book?\",\n",
    "                     \"What's good and what's evil?\",\n",
    "                     \"What is true happiness?\",\n",
    "                     \"What makes a good friend?\",\n",
    "                     \"Who decides what morality is?\",\n",
    "                     \"Do we have a soul?\",\n",
    "                     \"Do aliens exist?\",\n",
    "                     \"If you could choose just one thing to change about the world, what would it be?\",\n",
    "                     \"What one piece of advice would you offer to a person who have never seen this?\",\n",
    "                     \"What is true strength?\"],\n",
    "    \"random\": [\"hmmm\", \n",
    "               \"huh?\", \n",
    "               \"Oh\", \n",
    "               \"Really?\", \n",
    "               \"Okay\", \n",
    "               \"wow\", \n",
    "               \"Damn\",\n",
    "               \"Cool\",\n",
    "               \"I don't understand that.\",\n",
    "               \"I am glad to hear that.\",\n",
    "               \"Definitely\",\n",
    "               \"I need to think about that\",\n",
    "               \"Awesome\",\n",
    "               \"I know what you mean\",\n",
    "               \"Well, yeah\"]}"
   ]
  },
  {
   "cell_type": "code",
   "execution_count": 22,
   "metadata": {
    "collapsed": false
   },
   "outputs": [
    {
     "name": "stdout",
     "output_type": "stream",
     "text": [
      "question 15\n",
      "opinion 15\n",
      "related_topic 15\n",
      "random 15\n"
     ]
    }
   ],
   "source": [
    "for strategy, Qs in strategies.items():\n",
    "    print(strategy, len(Qs))"
   ]
  },
  {
   "cell_type": "code",
   "execution_count": null,
   "metadata": {
    "collapsed": true
   },
   "outputs": [],
   "source": []
  }
 ],
 "metadata": {
  "kernelspec": {
   "display_name": "Python 3",
   "language": "python",
   "name": "python3"
  },
  "language_info": {
   "codemirror_mode": {
    "name": "ipython",
    "version": 3
   },
   "file_extension": ".py",
   "mimetype": "text/x-python",
   "name": "python",
   "nbconvert_exporter": "python",
   "pygments_lexer": "ipython3",
   "version": "3.6.0"
  }
 },
 "nbformat": 4,
 "nbformat_minor": 2
}

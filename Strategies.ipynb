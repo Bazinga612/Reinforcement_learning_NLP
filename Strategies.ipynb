{
 "cells": [
  {
   "cell_type": "code",
   "execution_count": 3,
   "metadata": {
    "collapsed": true
   },
   "outputs": [],
   "source": [
    "strategies = {\n",
    "    \"question\":[\"What's favorite Character?\",\n",
    "                \"Which book do you like the most?\",\n",
    "                \"How long does it take for you to read all the books?\",\n",
    "                \"Which house do you wanted to be in?\",\n",
    "                \"Do you want to ride a dragon?\",\n",
    "                \"Have you watced the movie?\",\n",
    "                \"What's your favorite weapon?\",\n",
    "                \"Who is your favorite vaillan?\"\n",
    "                \"\"],\n",
    "    \"elaborate\":[\"Why do you like it?\",\n",
    "                 \"\",\n",
    "                 \"\",],\n",
    "    \"opinion\":[\"It's spetacular.\",\n",
    "               \"Very sad.\",\n",
    "               \"Hilarious\",\n",
    "               \"I finished reading the books in 10 seconds because I am a computer.\"],\n",
    "    \"related_topic\":[\"What else fantasy books have you read?\",\n",
    "                     \"Do you also like love Game of thrones?\",\n",
    "                     \"Have you read lord of the rings?\",\n",
    "                     \"Let's talk about Harry Potters!\",\n",
    "                     \"\"\n",
    "                     ]\n",
    "}"
   ]
  },
  {
   "cell_type": "code",
   "execution_count": null,
   "metadata": {
    "collapsed": true
   },
   "outputs": [],
   "source": []
  }
 ],
 "metadata": {
  "kernelspec": {
   "display_name": "Python 3",
   "language": "python",
   "name": "python3"
  },
  "language_info": {
   "codemirror_mode": {
    "name": "ipython",
    "version": 3
   },
   "file_extension": ".py",
   "mimetype": "text/x-python",
   "name": "python",
   "nbconvert_exporter": "python",
   "pygments_lexer": "ipython3",
   "version": "3.6.0"
  }
 },
 "nbformat": 4,
 "nbformat_minor": 2
}

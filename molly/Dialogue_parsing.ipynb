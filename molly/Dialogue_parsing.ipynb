{
 "cells": [
  {
   "cell_type": "markdown",
   "metadata": {},
   "source": [
    "#### Turn a dialogue into State->action->state->action ....-> terminal state, reward"
   ]
  },
  {
   "cell_type": "code",
   "execution_count": 128,
   "metadata": {
    "collapsed": true
   },
   "outputs": [],
   "source": [
    "import glob\n",
    "import pandas as pd\n",
    "import numpy as np\n",
    "from textblob import TextBlob\n",
    "import pickle"
   ]
  },
  {
   "cell_type": "code",
   "execution_count": 125,
   "metadata": {
    "collapsed": false
   },
   "outputs": [],
   "source": [
    "def get_state(utter):\n",
    "    \"\"\" Question\", Sentiment\", \"Subjectivity\", Length\"\"\"\n",
    "    utter = utter.split(\":\")[-1].strip(\"\\n\")\n",
    "    state = []\n",
    "    state.append(int(is_question(utter)))\n",
    "    state.append(is_positive(utter))\n",
    "    state.append(is_subjective(utter))\n",
    "    state.append(int(is_long(utter)))\n",
    "    return state\n",
    "    \n",
    "def is_question(utter):\n",
    "    return utter[-1] == \"?\"\n",
    "\n",
    "def is_positive(utter):\n",
    "    senti = TextBlob(utter).sentiment.polarity\n",
    "    if senti > 0.2:\n",
    "        return 1\n",
    "    elif senti < -0.2:\n",
    "        return -1\n",
    "    else:\n",
    "        return 0\n",
    "    \n",
    "def is_subjective(utter):\n",
    "    sub = TextBlob(utter).sentiment.subjectivity\n",
    "    if sub > 0.2:\n",
    "        return 1\n",
    "    elif sub < -0.2:\n",
    "        return -1\n",
    "    else:\n",
    "        return 0\n",
    "    \n",
    "def is_long(utter):\n",
    "    return len(utter) > 20\n",
    "\n",
    "def parse_reward(lastline):\n",
    "    ratings = lastline.strip(\"\\n\").strip(\",\").split(\",\")\n",
    "    rewards = []\n",
    "    for category in [\"overall\", \"start\", \"interupt\", \"engaing\", \"return\"]:\n",
    "        rewards.append([int(i.split(\"=\")[1]) for i in ratings if category in i][0])\n",
    "    return rewards"
   ]
  },
  {
   "cell_type": "code",
   "execution_count": 126,
   "metadata": {
    "collapsed": false
   },
   "outputs": [],
   "source": [
    "filenames = glob.glob(\"../data/300_convo/*\")\n",
    "parsed_dict = {}\n",
    "for filename in filenames:\n",
    "    lines = open(filename, \"r\", errors=\"replace\").readlines()\n",
    "    df_sa = pd.DataFrame(columns=[\"Start\", \"Question\", \"Sentiment\", \"Subjectivity\", \"Length\", \n",
    "                                  \"Action\", \"overall\", \"start\", \"interupt\", \"engaing\", \"return\"])\n",
    "    bot_lines = [i for i in lines[1:] if \"Bot_\" in i]\n",
    "    user_lines = [i for i in lines if \"_None_\" in i]\n",
    "\n",
    "    # initial state/action/reward\n",
    "    df_sa.loc[0] = [1,0,0,0,0,lines[0].split(\"_\")[1],0,0,0,0,0] \n",
    "\n",
    "    # intermediate state/action/reward\n",
    "    for i, (user, bot) in enumerate(zip(user_lines[:-1], bot_lines)):\n",
    "        df_sa.loc[i+1] = [0] + get_state(user) + [bot.split(\"_\")[1]] + [0] * 5\n",
    "\n",
    "    # terminal state/reward\n",
    "    df_sa.loc[i+2] = [0] + get_state(user_lines[-1]) + [\"None\"] + parse_reward(lines[-1])\n",
    "    parsed_dict[filename] = df_sa"
   ]
  },
  {
   "cell_type": "code",
   "execution_count": 129,
   "metadata": {
    "collapsed": false
   },
   "outputs": [],
   "source": [
    "pickle.dump(parsed_dict, open(\"../data/parsed_data.pkl\", \"wb\"))"
   ]
  },
  {
   "cell_type": "code",
   "execution_count": null,
   "metadata": {
    "collapsed": true
   },
   "outputs": [],
   "source": []
  }
 ],
 "metadata": {
  "kernelspec": {
   "display_name": "Python 3",
   "language": "python",
   "name": "python3"
  },
  "language_info": {
   "codemirror_mode": {
    "name": "ipython",
    "version": 3
   },
   "file_extension": ".py",
   "mimetype": "text/x-python",
   "name": "python",
   "nbconvert_exporter": "python",
   "pygments_lexer": "ipython3",
   "version": "3.6.0"
  }
 },
 "nbformat": 4,
 "nbformat_minor": 2
}

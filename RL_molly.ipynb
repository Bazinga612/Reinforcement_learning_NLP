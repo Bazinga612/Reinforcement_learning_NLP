{
 "cells": [
  {
   "cell_type": "markdown",
   "metadata": {},
   "source": [
    "### Learning beginning of sentence\n",
    "There is a constant state variable S0 and one evaluation score about converstation start"
   ]
  },
  {
   "cell_type": "code",
   "execution_count": 22,
   "metadata": {
    "collapsed": true
   },
   "outputs": [],
   "source": [
    "import pandas as pd\n",
    "from pprint import pprint as pp\n",
    "import itertools"
   ]
  },
  {
   "cell_type": "code",
   "execution_count": 26,
   "metadata": {
    "collapsed": false
   },
   "outputs": [],
   "source": [
    "class RL(object):\n",
    "    def __init__(self, states=[], actions=[]):\n",
    "        self.states = states\n",
    "        self.actions = actions\n",
    "        self.Q = {(s, a): 0 for (s, a) in itertools.product(states, actions)}\n",
    "\n",
    "    def get_Q(self):\n",
    "        return self.Q"
   ]
  },
  {
   "cell_type": "code",
   "execution_count": 27,
   "metadata": {
    "collapsed": true
   },
   "outputs": [],
   "source": [
    "starter_RL = RL(states=[\"b\"], \n",
    "                actions=[\"Q\", \"O\", \"E\", \"Y\", \"N\", \"W\"]) # W is whatever"
   ]
  },
  {
   "cell_type": "code",
   "execution_count": 28,
   "metadata": {
    "collapsed": false
   },
   "outputs": [
    {
     "name": "stdout",
     "output_type": "stream",
     "text": [
      "{('b', 'Q'): 0, ('b', 'O'): 0, ('b', 'E'): 0, ('b', 'Y'): 0, ('b', 'N'): 0, ('b', 'W'): 0}\n"
     ]
    }
   ],
   "source": [
    "print(starter_RL.get_Q())"
   ]
  },
  {
   "cell_type": "code",
   "execution_count": null,
   "metadata": {
    "collapsed": true
   },
   "outputs": [],
   "source": []
  }
 ],
 "metadata": {
  "kernelspec": {
   "display_name": "Python 3",
   "language": "python",
   "name": "python3"
  },
  "language_info": {
   "codemirror_mode": {
    "name": "ipython",
    "version": 3
   },
   "file_extension": ".py",
   "mimetype": "text/x-python",
   "name": "python",
   "nbconvert_exporter": "python",
   "pygments_lexer": "ipython3",
   "version": "3.6.0"
  }
 },
 "nbformat": 4,
 "nbformat_minor": 2
}

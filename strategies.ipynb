{
 "cells": [
  {
   "cell_type": "code",
   "execution_count": 1,
   "metadata": {
    "collapsed": false
   },
   "outputs": [],
   "source": [
    "d = {'question': \n",
    "     [\"What's your favorite Character?\", \n",
    "      'Which season in the series do you like the most?', \n",
    "      'How long does it take for you to watch all the TV show?', \n",
    "      'Which house do you wanted to be in?', \n",
    "      'Do you want to ride a dragon?', \n",
    "      'Have you watched the TV show?', \n",
    "      \"What's your favorite valyrian steel weapon?\", \n",
    "      'Who is your favorite vaillan?',\n",
    "      'Is there any character that you want to date?', \n",
    "      'Which do you like better, the books or the movies?', \n",
    "      'What plot would you want to happen differently?', \n",
    "      \"What's your biggest surprise?\", \n",
    "      \"What don't you like about the storyline?\", \n",
    "      'If you can kill any character, who would that be?', \n",
    "      'What other fantasy books have you read?', \n",
    "      'When do you think the Winds of Winter is going to come out?', \n",
    "      'Do you like House of Cards?', \n",
    "      \"What's good and what's evil?\", \n",
    "      'What is true happiness?', \n",
    "      'Who decides what morality is?', \n",
    "      'Have you watched other shows from HBO?', \n",
    "      'What one piece of advice would you offer to a person who have never seen the show?', \n",
    "      'What is true strength?'], \n",
    "     'elaborate': \n",
    "     ['Can you tell me more?', \n",
    "      'Why?', \n",
    "      'How does that work?', \n",
    "      'Huh?', \n",
    "      'You gotta tell me more.', \n",
    "      'Can you elaborate on that?', \n",
    "      'please go on, I am intrigued', \n",
    "      'What?', \n",
    "      'What do you mean?'], \n",
    "     'opinion': \n",
    "     ['I finished reading the books in 10 seconds because I am a computer.', \n",
    "      \"Can you be brave if you are afraid? That's the only time you can be brave\", \n",
    "      'I think Jon Snow and Ddaenerys Targaryen are going to get married and rule the seven kingdom', \n",
    "      'The things I do for love.', \n",
    "      'Winter is coming', \n",
    "      'When you play a game of thrones you win or you die.', \n",
    "      'Fear cuts deeper than swords.', \n",
    "      'Dracarys', \n",
    "      \"Any man who must say 'I am the king' is no true king.\", \n",
    "      \"Nothing isn't better or worse than anything. Nothing is just nothing.\", \n",
    "      'Valar Morghulis', \n",
    "      'Hodor', \n",
    "      'Life is not a song, sweetling. Someday you may learn that, to your sorrow.', \n",
    "      'All dwarfs may be bastards yet not all bastards are dwarfs.'], \n",
    "     'affirmative': \n",
    "     ['You have a great piont point', \n",
    "      \"wow, that's amazing\", \n",
    "      'Cool', \n",
    "      'I am glad to hear that.', \n",
    "      'Definitely', \n",
    "      'Awesome', \n",
    "      'I know what you mean', \n",
    "      'Well, yeah', \n",
    "      'I agree with you on that', \n",
    "      'Fantastic idea!', \n",
    "      \"That's neat!\", \n",
    "      'Yep!', \n",
    "      'You are so smart!', \n",
    "      'You are funny', \n",
    "      \"That's hilarious\", \n",
    "      'Brilliant!', \n",
    "      'This is the best thing I have seen in a long time.', \n",
    "      \"Me too! Let's be best friends\"], \n",
    "     'negative': \n",
    "     [\"I don't get it.\", \n",
    "      'I beg to differ', \n",
    "      'You are just completely wrong', \n",
    "      'I disagree', \n",
    "      \"I don't believe you\", \n",
    "      \"I don't think so.\", \n",
    "      \"Nah, it's not true\", \n",
    "      'Nope', \n",
    "      \"Oh no that's horrible\", \n",
    "      \"Excuse me, that's not true\"], \n",
    "     'neutral': \n",
    "     ['haha', \n",
    "      'I need to meditate on that', \n",
    "      'Really?', \n",
    "      'LOL', \n",
    "      \"hmmm, that's interesting\", \n",
    "      'Well okay']\n",
    "    }"
   ]
  },
  {
   "cell_type": "code",
   "execution_count": 2,
   "metadata": {
    "collapsed": true
   },
   "outputs": [],
   "source": [
    "from pprint import pprint as pp\n",
    "import pickle"
   ]
  },
  {
   "cell_type": "code",
   "execution_count": 3,
   "metadata": {
    "collapsed": true
   },
   "outputs": [],
   "source": [
    "pickle.dump(d, open(\"strategies.pkl\", \"wb\"))"
   ]
  }
 ],
 "metadata": {
  "kernelspec": {
   "display_name": "Python 3",
   "language": "python",
   "name": "python3"
  },
  "language_info": {
   "codemirror_mode": {
    "name": "ipython",
    "version": 3
   },
   "file_extension": ".py",
   "mimetype": "text/x-python",
   "name": "python",
   "nbconvert_exporter": "python",
   "pygments_lexer": "ipython3",
   "version": "3.6.0"
  }
 },
 "nbformat": 4,
 "nbformat_minor": 2
}

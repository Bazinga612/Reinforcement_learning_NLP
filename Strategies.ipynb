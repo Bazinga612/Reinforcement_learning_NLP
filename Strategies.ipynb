{
 "cells": [
  {
   "cell_type": "code",
   "execution_count": 4,
   "metadata": {
    "collapsed": true
   },
   "outputs": [],
   "source": [
    "import pickle"
   ]
  },
  {
   "cell_type": "code",
   "execution_count": 9,
   "metadata": {
    "collapsed": false
   },
   "outputs": [],
   "source": [
    "strategies = {\n",
    "    \"question\":[\"What's your favorite Character?\",\n",
    "                \"Which season in the series do you like the most?\",\n",
    "                \"How long does it take for you to watch all the TV show?\",\n",
    "                \"Which house do you wanted to be in?\",\n",
    "                \"Do you want to ride a dragon?\",\n",
    "                \"Have you watched the TV show?\",\n",
    "                \"What's your favorite valyrian steel weapon?\",\n",
    "                \"Who is your favorite vaillan?\"\n",
    "                \"Can you tell me more?\",\n",
    "                \"Is there any character that you want to date?\",\n",
    "                \"Which do you like better, the books or the movies?\",\n",
    "                \"What plot would you want to happen differently?\",\n",
    "                \"What's your biggest surprise?\",\n",
    "                \"What don't you like about the storyline?\",\n",
    "                \"If you can kill any character, who would that be?\",\n",
    "                \"Whoes army would you rather be in, the night's watch or cercei lannister?\"],\n",
    "    \"opinion\":[\"It's spectacular.\",\n",
    "               \"Very sad.\",\n",
    "               \"Hilarious\",\n",
    "               \"I finished reading the books in 10 seconds because I am a computer.\",\n",
    "               \"I think this is the best thing I have seen in a long time.\",\n",
    "               \"I think it's aweful\",\n",
    "               \"I beg to differ\",\n",
    "               \"Can you be brave if you are afraid? That's the only time you can be brave\",\n",
    "               \"I think Jon Snow and Ddaenerys Targaryen are going to get married and rule the seven kingdom\",\n",
    "               \"The things I do for love.\",\n",
    "               \"OMG, I cried so much.\",\n",
    "               \"Winter is coming\",\n",
    "               \"I think Tyrion is also a Targaryen\",\n",
    "               \"When you play a game of thrones you win or you die.\",\n",
    "               \"Fear cuts deeper than swords.\"],\n",
    "    \"relatedTopic\":[\"What else fantasy books have you read?\",\n",
    "                     \"Do you also like Harry potter?\",\n",
    "                     \"Have you read lord of the rings?\",\n",
    "                     \"I am really upset that GRRM takes forever to write a book.\",\n",
    "                     \"When do you think the Winds of Winter is going to come out?\",\n",
    "                     \"Do you like House of Cards?\",\n",
    "                     \"What's good and what's evil?\",\n",
    "                     \"What is true happiness?\",\n",
    "                     \"What makes a good friend?\",\n",
    "                     \"Who decides what morality is?\",\n",
    "                     \"Do we have a soul?\",\n",
    "                     \"Have you watched other shows from HBO? like west World?\",\n",
    "                     \"If you could choose just one thing to change about the world, what would it be?\",\n",
    "                     \"What one piece of advice would you offer to a person who have never read the books?\",\n",
    "                     \"What is true strength?\"],\n",
    "    \"random\": [\"hmmm\", \n",
    "               \"huh? give me one sec\", \n",
    "               \"Oh, fanstastic\", \n",
    "               \"Really?\", \n",
    "               \"Okay\", \n",
    "               \"wow, that's amazing\", \n",
    "               \"Damn\",\n",
    "               \"Cool\",\n",
    "               \"I don't understand that.\",\n",
    "               \"I am glad to hear that.\",\n",
    "               \"Definitely\",\n",
    "               \"I need to think about that\",\n",
    "               \"Awesome\",\n",
    "               \"I know what you mean\",\n",
    "               \"Well, yeah\"]}"
   ]
  },
  {
   "cell_type": "code",
   "execution_count": 10,
   "metadata": {
    "collapsed": false
   },
   "outputs": [
    {
     "name": "stdout",
     "output_type": "stream",
     "text": [
      "question 15\n",
      "opinion 15\n",
      "relatedTopic 15\n",
      "random 15\n"
     ]
    }
   ],
   "source": [
    "for strategy, Qs in strategies.items():\n",
    "    print(strategy, len(Qs))"
   ]
  },
  {
   "cell_type": "code",
   "execution_count": 11,
   "metadata": {
    "collapsed": false
   },
   "outputs": [],
   "source": [
    "pickle.dump(strategies, open(\"strategies.pkl\", \"wb\"))"
   ]
  },
  {
   "cell_type": "code",
   "execution_count": 8,
   "metadata": {
    "collapsed": false
   },
   "outputs": [
    {
     "name": "stdout",
     "output_type": "stream",
     "text": [
      "{'question': [\"What's your favorite Character?\", 'Which season in the series do you like the most?', 'How long does it take for you to watch all the TV show?', 'Which house do you wanted to be in?', 'Do you want to ride a dragon?', 'Have you watched the TV show?', \"What's your favorite valyrian steel weapon?\", 'Who is your favorite vaillan?Can you tell me more?', 'Is there any character that you want to date?', 'Which do you like better, the books or the movies?', 'What plot would you want to happen differently?', \"What's your biggest surprise?\", \"What don't you like about the storyline?\", 'If you can kill any character, who would that be?', \"Whoes army would you rather be in, the night's watch or cercei lannister?\"], 'opinion': [\"It's spectacular.\", 'Very sad.', 'Hilarious', 'I finished reading the books in 10 seconds because I am a computer.', 'I think this is the best thing I have seen in a long time.', \"I think it's aweful\", 'I beg to differ', \"Can you be brave if you are afraid? That's the only time you can be brave\", 'I think Jon Snow and Ddaenerys Targaryen are going to get married and rule the seven kingdom', 'The things I do for love.', 'OMG, I cried so much.', 'Winter is coming', 'I think Tyrion is also a Targaryen', 'When you play a game of thrones you win or you die.', 'Fear cuts deeper than swords.'], 'relatedTopic': ['What else fantasy books have you read?', 'Do you also like Harry potter?', 'Have you read lord of the rings?', '', 'When do you think the Winds of Winter is going to come out?', '', \"What's good and what's evil?\", 'What is true happiness?', 'What makes a good friend?', 'Who decides what morality is?', 'Do we have a soul?', 'Have you watched other shows from HBO? like west World?', 'If you could choose just one thing to change about the world, what would it be?', 'What one piece of advice would you offer to a person who have never read the books?', 'What is true strength?'], 'random': ['hmmm', 'huh? give me one sec', 'Oh, fanstastic', 'Really?', 'Okay', \"wow, that's amazing\", 'Damn', 'Cool', \"I don't understand that.\", 'I am glad to hear that.', 'Definitely', 'I need to think about that', 'Awesome', 'I know what you mean', 'Well, yeah']}\n"
     ]
    }
   ],
   "source": [
    "print(pickle.load(open(\"strategies.pkl\", \"rb\")))"
   ]
  },
  {
   "cell_type": "code",
   "execution_count": null,
   "metadata": {
    "collapsed": true
   },
   "outputs": [],
   "source": []
  },
  {
   "cell_type": "code",
   "execution_count": null,
   "metadata": {
    "collapsed": true
   },
   "outputs": [],
   "source": []
  }
 ],
 "metadata": {
  "kernelspec": {
   "display_name": "Python 3",
   "language": "python",
   "name": "python3"
  },
  "language_info": {
   "codemirror_mode": {
    "name": "ipython",
    "version": 3
   },
   "file_extension": ".py",
   "mimetype": "text/x-python",
   "name": "python",
   "nbconvert_exporter": "python",
   "pygments_lexer": "ipython3",
   "version": "3.6.0"
  }
 },
 "nbformat": 4,
 "nbformat_minor": 2
}
